{
 "cells": [
  {
   "cell_type": "code",
   "execution_count": 1,
   "metadata": {},
   "outputs": [
    {
     "name": "stdout",
     "output_type": "stream",
     "text": [
      "\u001b[31mN701-N508_S85_L001_R1_001.fastq\u001b[m\u001b[m* \u001b[31mN707-N508_S91_L001_R2_001.fastq\u001b[m\u001b[m*\r\n",
      "\u001b[31mN701-N508_S85_L001_R2_001.fastq\u001b[m\u001b[m* \u001b[31mN708-N508_S92_L001_R1_001.fastq\u001b[m\u001b[m*\r\n",
      "\u001b[31mN702-N508_S86_L001_R1_001.fastq\u001b[m\u001b[m* \u001b[31mN708-N508_S92_L001_R2_001.fastq\u001b[m\u001b[m*\r\n",
      "\u001b[31mN702-N508_S86_L001_R2_001.fastq\u001b[m\u001b[m* \u001b[31mN709-N508_S93_L001_R1_001.fastq\u001b[m\u001b[m*\r\n",
      "\u001b[31mN703-N508_S87_L001_R1_001.fastq\u001b[m\u001b[m* \u001b[31mN709-N508_S93_L001_R2_001.fastq\u001b[m\u001b[m*\r\n",
      "\u001b[31mN703-N508_S87_L001_R2_001.fastq\u001b[m\u001b[m* \u001b[31mN710-N508_S94_L001_R1_001.fastq\u001b[m\u001b[m*\r\n",
      "\u001b[31mN705-N508_S89_L001_R1_001.fastq\u001b[m\u001b[m* \u001b[31mN710-N508_S94_L001_R2_001.fastq\u001b[m\u001b[m*\r\n",
      "\u001b[31mN705-N508_S89_L001_R2_001.fastq\u001b[m\u001b[m* \u001b[31mN711-N508_S95_L001_R1_001.fastq\u001b[m\u001b[m*\r\n",
      "\u001b[31mN706-N508_S90_L001_R1_001.fastq\u001b[m\u001b[m* \u001b[31mN711-N508_S95_L001_R2_001.fastq\u001b[m\u001b[m*\r\n",
      "\u001b[31mN706-N508_S90_L001_R2_001.fastq\u001b[m\u001b[m* Untitled.ipynb\r\n",
      "\u001b[31mN707-N508_S91_L001_R1_001.fastq\u001b[m\u001b[m*\r\n"
     ]
    }
   ],
   "source": [
    "ls"
   ]
  },
  {
   "cell_type": "code",
   "execution_count": 7,
   "metadata": {},
   "outputs": [
    {
     "data": {
      "text/plain": [
       "u'/Users/yueshi/Documents/GitHub/Yue-metabarcoding/data/All'"
      ]
     },
     "execution_count": 7,
     "metadata": {},
     "output_type": "execute_result"
    }
   ],
   "source": [
    "pwd"
   ]
  },
  {
   "cell_type": "code",
   "execution_count": 8,
   "metadata": {},
   "outputs": [
    {
     "ename": "SyntaxError",
     "evalue": "invalid syntax (<ipython-input-8-dc8caa4c7d81>, line 1)",
     "output_type": "error",
     "traceback": [
      "\u001b[0;36m  File \u001b[0;32m\"<ipython-input-8-dc8caa4c7d81>\"\u001b[0;36m, line \u001b[0;32m1\u001b[0m\n\u001b[0;31m    wc -l N701-N508_S85_L001_R1_001.fastq\u001b[0m\n\u001b[0m             ^\u001b[0m\n\u001b[0;31mSyntaxError\u001b[0m\u001b[0;31m:\u001b[0m invalid syntax\n"
     ]
    }
   ],
   "source": [
    "wc -l N701-N508_S85_L001_R1_001.fastq"
   ]
  },
  {
   "cell_type": "code",
   "execution_count": null,
   "metadata": {},
   "outputs": [],
   "source": []
  }
 ],
 "metadata": {
  "kernelspec": {
   "display_name": "Python 2",
   "language": "python",
   "name": "python2"
  },
  "language_info": {
   "codemirror_mode": {
    "name": "ipython",
    "version": 2
   },
   "file_extension": ".py",
   "mimetype": "text/x-python",
   "name": "python",
   "nbconvert_exporter": "python",
   "pygments_lexer": "ipython2",
   "version": "2.7.14"
  }
 },
 "nbformat": 4,
 "nbformat_minor": 2
}
